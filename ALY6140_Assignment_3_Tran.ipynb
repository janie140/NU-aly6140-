{
 "cells": [
  {
   "cell_type": "raw",
   "id": "b504da0f",
   "metadata": {},
   "source": [
    "\n",
    " The objective of this assignment is to demnostrate your skills in analyisng dataset using pandas.\n",
    " \n",
    " Dataset: Wimbledons championship dataset.\n",
    " Data Description: Has following variables:\n",
    "                   1. Gender\t\n",
    "                   2. Champion\t\n",
    "                   3. Mins\t\n",
    "                   4. Runner-up Nationality\t\n",
    "                   5. Champion Nationality\t\n",
    "                   6. Runner-up\tScore\t\n",
    "                   7. Runner-up Seed\t\n",
    "                   8. Champion Seed\t\n",
    "                   9. Year\t\n",
    "                   10. Runner-up Nationality (Men's)\t\n",
    "                   11. Runner-Up"
   ]
  },
  {
   "cell_type": "markdown",
   "id": "7fb615bb",
   "metadata": {},
   "source": [
    "## Task 1.\n",
    "#### 1. Download dataset (wimbledons_championship.csv and Read data .csv as a pandas dataframe\n",
    "#### 2. Display TOP 7 lines of the data"
   ]
  },
  {
   "cell_type": "code",
   "execution_count": 40,
   "id": "0a70d214",
   "metadata": {
    "ExecuteTime": {
     "end_time": "2023-10-08T21:45:18.021924Z",
     "start_time": "2023-10-08T21:45:17.974988Z"
    }
   },
   "outputs": [
    {
     "data": {
      "text/plain": "  Gender        Champion  Mins Runner-up Nationality Champion Nationality  \\\n0  Men's  G.L. Patterson   NaN                   AUS                  AUS   \n1  Men's  G.L. Patterson   NaN                   GBR                  AUS   \n2  Men's    N.E. Brookes   NaN                   GBR                  AUS   \n3  Men's    N.E. Brookes   NaN                   NZL                  AUS   \n4  Men's    J.R. Borotra  80.0                   FRA                  FRA   \n5  Men's    J.R. Lacoste   NaN                   FRA                  FRA   \n6  Men's    J.R. Borotra  65.0                   USA                  FRA   \n\n      Runner-up                    Score Runner-up Seed  Champion Seed  Year  \\\n0  N.E. Brookes            6-3, 7-5, 6-2            NaN            NaN  1919   \n1     R. Lycett            6-3, 6-4, 6-2            NaN            NaN  1922   \n2     A.W. Gore            6-4, 6-2, 6-2            NaN            NaN  1907   \n3  A.F. Wilding            6-4, 6-4, 7-5            NaN            NaN  1914   \n4  J.R. Lacoste  6-1, 3-6, 6-1, 3-6, 6-4            NaN            NaN  1924   \n5  J.R. Borotra       6-3, 6-3, 4-6, 8-6            NaN            NaN  1925   \n6   H.O. Kinsey            8-6, 6-1, 6-3            NaN            NaN  1926   \n\n  Runner-up Nationality (Men's) Runner-Up  \n0                           NaN       NaN  \n1                           NaN       NaN  \n2                           NaN       NaN  \n3                           NaN       NaN  \n4                           NaN       NaN  \n5                           NaN       NaN  \n6                           NaN       NaN  ",
      "text/html": "<div>\n<style scoped>\n    .dataframe tbody tr th:only-of-type {\n        vertical-align: middle;\n    }\n\n    .dataframe tbody tr th {\n        vertical-align: top;\n    }\n\n    .dataframe thead th {\n        text-align: right;\n    }\n</style>\n<table border=\"1\" class=\"dataframe\">\n  <thead>\n    <tr style=\"text-align: right;\">\n      <th></th>\n      <th>Gender</th>\n      <th>Champion</th>\n      <th>Mins</th>\n      <th>Runner-up Nationality</th>\n      <th>Champion Nationality</th>\n      <th>Runner-up</th>\n      <th>Score</th>\n      <th>Runner-up Seed</th>\n      <th>Champion Seed</th>\n      <th>Year</th>\n      <th>Runner-up Nationality (Men's)</th>\n      <th>Runner-Up</th>\n    </tr>\n  </thead>\n  <tbody>\n    <tr>\n      <th>0</th>\n      <td>Men's</td>\n      <td>G.L. Patterson</td>\n      <td>NaN</td>\n      <td>AUS</td>\n      <td>AUS</td>\n      <td>N.E. Brookes</td>\n      <td>6-3, 7-5, 6-2</td>\n      <td>NaN</td>\n      <td>NaN</td>\n      <td>1919</td>\n      <td>NaN</td>\n      <td>NaN</td>\n    </tr>\n    <tr>\n      <th>1</th>\n      <td>Men's</td>\n      <td>G.L. Patterson</td>\n      <td>NaN</td>\n      <td>GBR</td>\n      <td>AUS</td>\n      <td>R. Lycett</td>\n      <td>6-3, 6-4, 6-2</td>\n      <td>NaN</td>\n      <td>NaN</td>\n      <td>1922</td>\n      <td>NaN</td>\n      <td>NaN</td>\n    </tr>\n    <tr>\n      <th>2</th>\n      <td>Men's</td>\n      <td>N.E. Brookes</td>\n      <td>NaN</td>\n      <td>GBR</td>\n      <td>AUS</td>\n      <td>A.W. Gore</td>\n      <td>6-4, 6-2, 6-2</td>\n      <td>NaN</td>\n      <td>NaN</td>\n      <td>1907</td>\n      <td>NaN</td>\n      <td>NaN</td>\n    </tr>\n    <tr>\n      <th>3</th>\n      <td>Men's</td>\n      <td>N.E. Brookes</td>\n      <td>NaN</td>\n      <td>NZL</td>\n      <td>AUS</td>\n      <td>A.F. Wilding</td>\n      <td>6-4, 6-4, 7-5</td>\n      <td>NaN</td>\n      <td>NaN</td>\n      <td>1914</td>\n      <td>NaN</td>\n      <td>NaN</td>\n    </tr>\n    <tr>\n      <th>4</th>\n      <td>Men's</td>\n      <td>J.R. Borotra</td>\n      <td>80.0</td>\n      <td>FRA</td>\n      <td>FRA</td>\n      <td>J.R. Lacoste</td>\n      <td>6-1, 3-6, 6-1, 3-6, 6-4</td>\n      <td>NaN</td>\n      <td>NaN</td>\n      <td>1924</td>\n      <td>NaN</td>\n      <td>NaN</td>\n    </tr>\n    <tr>\n      <th>5</th>\n      <td>Men's</td>\n      <td>J.R. Lacoste</td>\n      <td>NaN</td>\n      <td>FRA</td>\n      <td>FRA</td>\n      <td>J.R. Borotra</td>\n      <td>6-3, 6-3, 4-6, 8-6</td>\n      <td>NaN</td>\n      <td>NaN</td>\n      <td>1925</td>\n      <td>NaN</td>\n      <td>NaN</td>\n    </tr>\n    <tr>\n      <th>6</th>\n      <td>Men's</td>\n      <td>J.R. Borotra</td>\n      <td>65.0</td>\n      <td>USA</td>\n      <td>FRA</td>\n      <td>H.O. Kinsey</td>\n      <td>8-6, 6-1, 6-3</td>\n      <td>NaN</td>\n      <td>NaN</td>\n      <td>1926</td>\n      <td>NaN</td>\n      <td>NaN</td>\n    </tr>\n  </tbody>\n</table>\n</div>"
     },
     "execution_count": 40,
     "metadata": {},
     "output_type": "execute_result"
    }
   ],
   "source": [
    "#Your solution here\n",
    "# your code\n",
    "import os\n",
    "import pandas as pd\n",
    "import numpy as np\n",
    "\n",
    "df = pd.read_csv(\"wimbledons_champions.csv\")\n",
    "df.head(7)"
   ]
  },
  {
   "cell_type": "code",
   "execution_count": 14,
   "id": "95721536",
   "metadata": {},
   "outputs": [
    {
     "data": {
      "text/html": [
       "<div>\n",
       "<style scoped>\n",
       "    .dataframe tbody tr th:only-of-type {\n",
       "        vertical-align: middle;\n",
       "    }\n",
       "\n",
       "    .dataframe tbody tr th {\n",
       "        vertical-align: top;\n",
       "    }\n",
       "\n",
       "    .dataframe thead th {\n",
       "        text-align: right;\n",
       "    }\n",
       "</style>\n",
       "<table border=\"1\" class=\"dataframe\">\n",
       "  <thead>\n",
       "    <tr style=\"text-align: right;\">\n",
       "      <th></th>\n",
       "      <th>Gender</th>\n",
       "      <th>Champion</th>\n",
       "      <th>Mins</th>\n",
       "      <th>Runner-up Nationality</th>\n",
       "      <th>Champion Nationality</th>\n",
       "      <th>Runner-up</th>\n",
       "      <th>Score</th>\n",
       "      <th>Runner-up Seed</th>\n",
       "      <th>Champion Seed</th>\n",
       "      <th>Year</th>\n",
       "      <th>Runner-up Nationality (Men's)</th>\n",
       "      <th>Runner-Up</th>\n",
       "    </tr>\n",
       "  </thead>\n",
       "  <tbody>\n",
       "    <tr>\n",
       "      <th>0</th>\n",
       "      <td>Men's</td>\n",
       "      <td>G.L. Patterson</td>\n",
       "      <td>NaN</td>\n",
       "      <td>AUS</td>\n",
       "      <td>AUS</td>\n",
       "      <td>N.E. Brookes</td>\n",
       "      <td>6-3, 7-5, 6-2</td>\n",
       "      <td>NaN</td>\n",
       "      <td>NaN</td>\n",
       "      <td>1919</td>\n",
       "      <td>NaN</td>\n",
       "      <td>NaN</td>\n",
       "    </tr>\n",
       "    <tr>\n",
       "      <th>1</th>\n",
       "      <td>Men's</td>\n",
       "      <td>G.L. Patterson</td>\n",
       "      <td>NaN</td>\n",
       "      <td>GBR</td>\n",
       "      <td>AUS</td>\n",
       "      <td>R. Lycett</td>\n",
       "      <td>6-3, 6-4, 6-2</td>\n",
       "      <td>NaN</td>\n",
       "      <td>NaN</td>\n",
       "      <td>1922</td>\n",
       "      <td>NaN</td>\n",
       "      <td>NaN</td>\n",
       "    </tr>\n",
       "    <tr>\n",
       "      <th>2</th>\n",
       "      <td>Men's</td>\n",
       "      <td>N.E. Brookes</td>\n",
       "      <td>NaN</td>\n",
       "      <td>GBR</td>\n",
       "      <td>AUS</td>\n",
       "      <td>A.W. Gore</td>\n",
       "      <td>6-4, 6-2, 6-2</td>\n",
       "      <td>NaN</td>\n",
       "      <td>NaN</td>\n",
       "      <td>1907</td>\n",
       "      <td>NaN</td>\n",
       "      <td>NaN</td>\n",
       "    </tr>\n",
       "    <tr>\n",
       "      <th>3</th>\n",
       "      <td>Men's</td>\n",
       "      <td>N.E. Brookes</td>\n",
       "      <td>NaN</td>\n",
       "      <td>NZL</td>\n",
       "      <td>AUS</td>\n",
       "      <td>A.F. Wilding</td>\n",
       "      <td>6-4, 6-4, 7-5</td>\n",
       "      <td>NaN</td>\n",
       "      <td>NaN</td>\n",
       "      <td>1914</td>\n",
       "      <td>NaN</td>\n",
       "      <td>NaN</td>\n",
       "    </tr>\n",
       "    <tr>\n",
       "      <th>4</th>\n",
       "      <td>Men's</td>\n",
       "      <td>J.R. Borotra</td>\n",
       "      <td>80.0</td>\n",
       "      <td>FRA</td>\n",
       "      <td>FRA</td>\n",
       "      <td>J.R. Lacoste</td>\n",
       "      <td>6-1, 3-6, 6-1, 3-6, 6-4</td>\n",
       "      <td>NaN</td>\n",
       "      <td>NaN</td>\n",
       "      <td>1924</td>\n",
       "      <td>NaN</td>\n",
       "      <td>NaN</td>\n",
       "    </tr>\n",
       "    <tr>\n",
       "      <th>5</th>\n",
       "      <td>Men's</td>\n",
       "      <td>J.R. Lacoste</td>\n",
       "      <td>NaN</td>\n",
       "      <td>FRA</td>\n",
       "      <td>FRA</td>\n",
       "      <td>J.R. Borotra</td>\n",
       "      <td>6-3, 6-3, 4-6, 8-6</td>\n",
       "      <td>NaN</td>\n",
       "      <td>NaN</td>\n",
       "      <td>1925</td>\n",
       "      <td>NaN</td>\n",
       "      <td>NaN</td>\n",
       "    </tr>\n",
       "    <tr>\n",
       "      <th>6</th>\n",
       "      <td>Men's</td>\n",
       "      <td>J.R. Borotra</td>\n",
       "      <td>65.0</td>\n",
       "      <td>USA</td>\n",
       "      <td>FRA</td>\n",
       "      <td>H.O. Kinsey</td>\n",
       "      <td>8-6, 6-1, 6-3</td>\n",
       "      <td>NaN</td>\n",
       "      <td>NaN</td>\n",
       "      <td>1926</td>\n",
       "      <td>NaN</td>\n",
       "      <td>NaN</td>\n",
       "    </tr>\n",
       "  </tbody>\n",
       "</table>\n",
       "</div>"
      ],
      "text/plain": [
       "  Gender        Champion  Mins Runner-up Nationality Champion Nationality  \\\n",
       "0  Men's  G.L. Patterson   NaN                   AUS                  AUS   \n",
       "1  Men's  G.L. Patterson   NaN                   GBR                  AUS   \n",
       "2  Men's    N.E. Brookes   NaN                   GBR                  AUS   \n",
       "3  Men's    N.E. Brookes   NaN                   NZL                  AUS   \n",
       "4  Men's    J.R. Borotra  80.0                   FRA                  FRA   \n",
       "5  Men's    J.R. Lacoste   NaN                   FRA                  FRA   \n",
       "6  Men's    J.R. Borotra  65.0                   USA                  FRA   \n",
       "\n",
       "      Runner-up                    Score Runner-up Seed  Champion Seed  Year  \\\n",
       "0  N.E. Brookes            6-3, 7-5, 6-2            NaN            NaN  1919   \n",
       "1     R. Lycett            6-3, 6-4, 6-2            NaN            NaN  1922   \n",
       "2     A.W. Gore            6-4, 6-2, 6-2            NaN            NaN  1907   \n",
       "3  A.F. Wilding            6-4, 6-4, 7-5            NaN            NaN  1914   \n",
       "4  J.R. Lacoste  6-1, 3-6, 6-1, 3-6, 6-4            NaN            NaN  1924   \n",
       "5  J.R. Borotra       6-3, 6-3, 4-6, 8-6            NaN            NaN  1925   \n",
       "6   H.O. Kinsey            8-6, 6-1, 6-3            NaN            NaN  1926   \n",
       "\n",
       "  Runner-up Nationality (Men's) Runner-Up  \n",
       "0                           NaN       NaN  \n",
       "1                           NaN       NaN  \n",
       "2                           NaN       NaN  \n",
       "3                           NaN       NaN  \n",
       "4                           NaN       NaN  \n",
       "5                           NaN       NaN  \n",
       "6                           NaN       NaN  "
      ]
     },
     "execution_count": 14,
     "metadata": {},
     "output_type": "execute_result"
    }
   ],
   "source": [
    "##Output"
   ]
  },
  {
   "cell_type": "raw",
   "id": "377299de",
   "metadata": {},
   "source": [
    "End your solution here"
   ]
  },
  {
   "cell_type": "raw",
   "id": "1f852cf1",
   "metadata": {},
   "source": [
    "QUESTIONS:\n",
    "    1. What is the size of the dataset (total rows and columns)\n",
    "    2. How data is spread between Men's and Women's champions?\n",
    "    3. Display the all the countries of champions \n",
    "    4. Display champions from the following countries:\n",
    "       1. USA\n",
    "       2. GBR\n",
    "       \n",
    "    NOTE: Only display Champion name, Champion Nationality, Year, and Champion seed\n",
    "    \n",
    "    5. Display Runner-up name, Nationality, year, runner-up seed\n",
    "    6. How many years USA has won the championship? display champion name, and year\n",
    "    7. Name the champion who has won highest times - display champion name, country, year\n",
    "    9. WHat is the Average \"MINS\" of MEN's game (WARNING: You have missing values in the dataset)\n",
    "    \n",
    "   \n",
    "   DATA SET details:\n",
    "   10. How many missing values are in the dataset (Each column information)\n",
    "   \n",
    "    \n",
    "   #OPTIIONAL\n",
    "   11. Split Score column into different columns based on sets\n",
    "   12. How many played all the 5 full sets in Men's and 3 full sets in Women's to win the championship\n",
    "    \n",
    "    "
   ]
  },
  {
   "cell_type": "raw",
   "id": "9e5643a6",
   "metadata": {},
   "source": [
    "Question 2:\n",
    "     1. What is the size of the dataset (total rows and columns)\n",
    "        "
   ]
  },
  {
   "cell_type": "code",
   "execution_count": 11,
   "id": "0a9373f8",
   "metadata": {
    "ExecuteTime": {
     "end_time": "2023-10-08T18:38:14.406551Z",
     "start_time": "2023-10-08T18:38:14.380698Z"
    }
   },
   "outputs": [
    {
     "name": "stdout",
     "output_type": "stream",
     "text": [
      "Total Rows: 253, Total Columns: 12\n"
     ]
    }
   ],
   "source": [
    "##Your solution here\n",
    "size = df.shape\n",
    "print(f\"Total Rows: {size[0]}, Total Columns: {size[1]}\")\n",
    "\n",
    "#expected output"
   ]
  },
  {
   "cell_type": "raw",
   "id": "39102bc9",
   "metadata": {},
   "source": [
    "End of Q2 solution"
   ]
  },
  {
   "cell_type": "raw",
   "id": "2273a1d6",
   "metadata": {},
   "source": [
    "Q 3\n",
    "3. How data is spread between Men's and Women's champions?"
   ]
  },
  {
   "cell_type": "code",
   "execution_count": 13,
   "id": "6c70c1f2",
   "metadata": {
    "ExecuteTime": {
     "end_time": "2023-10-08T18:40:08.400386Z",
     "start_time": "2023-10-08T18:40:08.378865Z"
    }
   },
   "outputs": [
    {
     "name": "stdout",
     "output_type": "stream",
     "text": [
      "Gender Distribution:\n",
      "Gender\n",
      "Men's      130\n",
      "Women's    123\n",
      "Name: count, dtype: int64\n"
     ]
    }
   ],
   "source": [
    "#Your code solution here\n",
    "gender_group = df['Gender'].value_counts()\n",
    "print(\"Gender Distribution:\")\n",
    "print(gender_group)\n",
    "#expected Output"
   ]
  },
  {
   "cell_type": "code",
   "execution_count": 36,
   "id": "814e17d7",
   "metadata": {},
   "outputs": [],
   "source": [
    "#Q3 solution ends here"
   ]
  },
  {
   "cell_type": "markdown",
   "id": "1b02e232",
   "metadata": {},
   "source": [
    "## Q4:\n",
    "####    4. Display all the countries (champion nationality) of champions\n",
    "    "
   ]
  },
  {
   "cell_type": "code",
   "execution_count": 17,
   "id": "f44ce6a1",
   "metadata": {
    "ExecuteTime": {
     "end_time": "2023-10-08T19:47:12.299854Z",
     "start_time": "2023-10-08T19:47:12.274074Z"
    }
   },
   "outputs": [
    {
     "name": "stdout",
     "output_type": "stream",
     "text": [
      "Champion Nationality\n",
      "USA    90\n",
      "GBR    73\n",
      "AUS    26\n",
      "FRA    15\n",
      "GER    12\n",
      "SUI     8\n",
      "SWE     7\n",
      "CZE     5\n",
      "NZL     4\n",
      "ESP     4\n",
      "SRB     3\n",
      "BRA     3\n",
      "NED     1\n",
      "CRO     1\n",
      "RUS     1\n",
      "Name: count, dtype: int64\n"
     ]
    }
   ],
   "source": [
    "#Your code solution here\n",
    "champion_nationality_group = df['Champion Nationality'].value_counts()\n",
    "print(champion_nationality_group)"
   ]
  },
  {
   "cell_type": "code",
   "execution_count": 42,
   "id": "25391f9d",
   "metadata": {},
   "outputs": [
    {
     "data": {
      "text/plain": [
       "USA    90\n",
       "GBR    73\n",
       "AUS    26\n",
       "FRA    15\n",
       "GER    12\n",
       "SUI     8\n",
       "SWE     7\n",
       "CZE     5\n",
       "ESP     4\n",
       "NZL     4\n",
       "BRA     3\n",
       "SRB     3\n",
       "CRO     1\n",
       "NED     1\n",
       "RUS     1\n",
       "Name: Champion Nationality, dtype: int64"
      ]
     },
     "execution_count": 42,
     "metadata": {},
     "output_type": "execute_result"
    }
   ],
   "source": [
    "#expected Output"
   ]
  },
  {
   "cell_type": "raw",
   "id": "6ba93276",
   "metadata": {},
   "source": [
    "# Q4 solution ends here"
   ]
  },
  {
   "cell_type": "markdown",
   "id": "efa70b0b",
   "metadata": {},
   "source": [
    "##Question 5\n",
    "\n",
    "### Display champions from the following countries:\n",
    "       1. USA\n",
    "       2. GBR\n",
    "    NOTE: Only display Champion name, Champion Nationality, Year, and Champion seed\n",
    "    \n",
    "    2. Copy to a different dataframe and display as shown below\n",
    "    3. How many records did you find for each country?\n",
    "    "
   ]
  },
  {
   "cell_type": "code",
   "execution_count": 64,
   "id": "32fc7480",
   "metadata": {},
   "outputs": [],
   "source": [
    "# Your solution here"
   ]
  },
  {
   "cell_type": "code",
   "execution_count": 20,
   "id": "f973811c",
   "metadata": {
    "ExecuteTime": {
     "end_time": "2023-10-08T20:08:14.928362Z",
     "start_time": "2023-10-08T20:08:14.880903Z"
    }
   },
   "outputs": [
    {
     "name": "stdout",
     "output_type": "stream",
     "text": [
      "            Champion Champion Nationality  Year  Champion Seed\n",
      "7       H.L. Doherty                  GBR  1905            NaN\n",
      "8          A.W. Gore                  GBR  1908            NaN\n",
      "9          A.W. Gore                  GBR  1909            NaN\n",
      "10         A.W. Gore                  GBR  1901            NaN\n",
      "11      H.F. Lawford                  GBR  1887            NaN\n",
      "..               ...                  ...   ...            ...\n",
      "248  V.E.S. Williams                  USA  2000            5.0\n",
      "249         S.J. Fry                  USA  1956            5.0\n",
      "250      S. Williams                  USA  2012            6.0\n",
      "251  V.E.S. Williams                  USA  2008            7.0\n",
      "252      J.R. Susman                  USA  1962            8.0\n",
      "\n",
      "[163 rows x 4 columns]\n"
     ]
    }
   ],
   "source": [
    "#part 1\n",
    "filtered_df = df[df['Champion Nationality'].isin(['USA', 'GBR'])]\n",
    "filtered_col = ['Champion', 'Champion Nationality', 'Year', 'Champion Seed']\n",
    "df_2 = filtered_df[filtered_col]\n",
    "print(df_2)\n",
    "##expected output here"
   ]
  },
  {
   "cell_type": "code",
   "execution_count": 21,
   "id": "fe0182c1",
   "metadata": {
    "ExecuteTime": {
     "end_time": "2023-10-08T20:45:18.565364Z",
     "start_time": "2023-10-08T20:45:18.538588Z"
    }
   },
   "outputs": [
    {
     "name": "stdout",
     "output_type": "stream",
     "text": [
      "Champion Nationality\n",
      "USA    90\n",
      "GBR    73\n",
      "Name: count, dtype: int64\n"
     ]
    }
   ],
   "source": [
    "#Part 2 Question 5\n",
    "# your solution\n",
    "df_2_group = df_2['Champion Nationality'] .value_counts()\n",
    "print(df_2_group)"
   ]
  },
  {
   "cell_type": "raw",
   "id": "582ea33e",
   "metadata": {},
   "source": [
    "ENd of Question 5"
   ]
  },
  {
   "cell_type": "markdown",
   "id": "a73c590c",
   "metadata": {},
   "source": [
    "## Question 6\n",
    "\n",
    "#### Display Runner-up name, Nationality, year, runner-up seed\n"
   ]
  },
  {
   "cell_type": "code",
   "execution_count": 23,
   "id": "65640026",
   "metadata": {
    "ExecuteTime": {
     "end_time": "2023-10-08T20:49:41.380342Z",
     "start_time": "2023-10-08T20:49:41.350760Z"
    }
   },
   "outputs": [
    {
     "data": {
      "text/plain": "          Runner-Up Runner-up Nationality  Year Runner-up Seed\n0               NaN                   AUS  1919            NaN\n1               NaN                   GBR  1922            NaN\n2               NaN                   GBR  1907            NaN\n3               NaN                   NZL  1914            NaN\n4               NaN                   FRA  1924            NaN\n..              ...                   ...   ...            ...\n248  L.A. Davenport                   NaN  2000              2\n249       A. Buxton                   NaN  1956              6\n250    A. Radwańska                   NaN  2012              3\n251   S.J. Williams                   NaN  2008              6\n252       C. Sukova                   NaN  1962            NaN\n\n[253 rows x 4 columns]",
      "text/html": "<div>\n<style scoped>\n    .dataframe tbody tr th:only-of-type {\n        vertical-align: middle;\n    }\n\n    .dataframe tbody tr th {\n        vertical-align: top;\n    }\n\n    .dataframe thead th {\n        text-align: right;\n    }\n</style>\n<table border=\"1\" class=\"dataframe\">\n  <thead>\n    <tr style=\"text-align: right;\">\n      <th></th>\n      <th>Runner-Up</th>\n      <th>Runner-up Nationality</th>\n      <th>Year</th>\n      <th>Runner-up Seed</th>\n    </tr>\n  </thead>\n  <tbody>\n    <tr>\n      <th>0</th>\n      <td>NaN</td>\n      <td>AUS</td>\n      <td>1919</td>\n      <td>NaN</td>\n    </tr>\n    <tr>\n      <th>1</th>\n      <td>NaN</td>\n      <td>GBR</td>\n      <td>1922</td>\n      <td>NaN</td>\n    </tr>\n    <tr>\n      <th>2</th>\n      <td>NaN</td>\n      <td>GBR</td>\n      <td>1907</td>\n      <td>NaN</td>\n    </tr>\n    <tr>\n      <th>3</th>\n      <td>NaN</td>\n      <td>NZL</td>\n      <td>1914</td>\n      <td>NaN</td>\n    </tr>\n    <tr>\n      <th>4</th>\n      <td>NaN</td>\n      <td>FRA</td>\n      <td>1924</td>\n      <td>NaN</td>\n    </tr>\n    <tr>\n      <th>...</th>\n      <td>...</td>\n      <td>...</td>\n      <td>...</td>\n      <td>...</td>\n    </tr>\n    <tr>\n      <th>248</th>\n      <td>L.A. Davenport</td>\n      <td>NaN</td>\n      <td>2000</td>\n      <td>2</td>\n    </tr>\n    <tr>\n      <th>249</th>\n      <td>A. Buxton</td>\n      <td>NaN</td>\n      <td>1956</td>\n      <td>6</td>\n    </tr>\n    <tr>\n      <th>250</th>\n      <td>A. Radwańska</td>\n      <td>NaN</td>\n      <td>2012</td>\n      <td>3</td>\n    </tr>\n    <tr>\n      <th>251</th>\n      <td>S.J. Williams</td>\n      <td>NaN</td>\n      <td>2008</td>\n      <td>6</td>\n    </tr>\n    <tr>\n      <th>252</th>\n      <td>C. Sukova</td>\n      <td>NaN</td>\n      <td>1962</td>\n      <td>NaN</td>\n    </tr>\n  </tbody>\n</table>\n<p>253 rows × 4 columns</p>\n</div>"
     },
     "execution_count": 23,
     "metadata": {},
     "output_type": "execute_result"
    }
   ],
   "source": [
    "# Your solution code here\n",
    "df[['Runner-Up', 'Runner-up Nationality', 'Year', 'Runner-up Seed']]"
   ]
  },
  {
   "cell_type": "code",
   "execution_count": 70,
   "id": "5b610cb6",
   "metadata": {},
   "outputs": [
    {
     "data": {
      "text/html": [
       "<div>\n",
       "<style scoped>\n",
       "    .dataframe tbody tr th:only-of-type {\n",
       "        vertical-align: middle;\n",
       "    }\n",
       "\n",
       "    .dataframe tbody tr th {\n",
       "        vertical-align: top;\n",
       "    }\n",
       "\n",
       "    .dataframe thead th {\n",
       "        text-align: right;\n",
       "    }\n",
       "</style>\n",
       "<table border=\"1\" class=\"dataframe\">\n",
       "  <thead>\n",
       "    <tr style=\"text-align: right;\">\n",
       "      <th></th>\n",
       "      <th>Runner-up</th>\n",
       "      <th>Runner-up Nationality</th>\n",
       "      <th>Year</th>\n",
       "      <th>Runner-up Seed</th>\n",
       "    </tr>\n",
       "  </thead>\n",
       "  <tbody>\n",
       "    <tr>\n",
       "      <th>0</th>\n",
       "      <td>N.E. Brookes</td>\n",
       "      <td>AUS</td>\n",
       "      <td>1919</td>\n",
       "      <td>NaN</td>\n",
       "    </tr>\n",
       "    <tr>\n",
       "      <th>1</th>\n",
       "      <td>R. Lycett</td>\n",
       "      <td>GBR</td>\n",
       "      <td>1922</td>\n",
       "      <td>NaN</td>\n",
       "    </tr>\n",
       "    <tr>\n",
       "      <th>2</th>\n",
       "      <td>A.W. Gore</td>\n",
       "      <td>GBR</td>\n",
       "      <td>1907</td>\n",
       "      <td>NaN</td>\n",
       "    </tr>\n",
       "    <tr>\n",
       "      <th>3</th>\n",
       "      <td>A.F. Wilding</td>\n",
       "      <td>NZL</td>\n",
       "      <td>1914</td>\n",
       "      <td>NaN</td>\n",
       "    </tr>\n",
       "    <tr>\n",
       "      <th>4</th>\n",
       "      <td>J.R. Lacoste</td>\n",
       "      <td>FRA</td>\n",
       "      <td>1924</td>\n",
       "      <td>NaN</td>\n",
       "    </tr>\n",
       "    <tr>\n",
       "      <th>...</th>\n",
       "      <td>...</td>\n",
       "      <td>...</td>\n",
       "      <td>...</td>\n",
       "      <td>...</td>\n",
       "    </tr>\n",
       "    <tr>\n",
       "      <th>248</th>\n",
       "      <td>NaN</td>\n",
       "      <td>NaN</td>\n",
       "      <td>2000</td>\n",
       "      <td>2</td>\n",
       "    </tr>\n",
       "    <tr>\n",
       "      <th>249</th>\n",
       "      <td>NaN</td>\n",
       "      <td>NaN</td>\n",
       "      <td>1956</td>\n",
       "      <td>6</td>\n",
       "    </tr>\n",
       "    <tr>\n",
       "      <th>250</th>\n",
       "      <td>NaN</td>\n",
       "      <td>NaN</td>\n",
       "      <td>2012</td>\n",
       "      <td>3</td>\n",
       "    </tr>\n",
       "    <tr>\n",
       "      <th>251</th>\n",
       "      <td>NaN</td>\n",
       "      <td>NaN</td>\n",
       "      <td>2008</td>\n",
       "      <td>6</td>\n",
       "    </tr>\n",
       "    <tr>\n",
       "      <th>252</th>\n",
       "      <td>NaN</td>\n",
       "      <td>NaN</td>\n",
       "      <td>1962</td>\n",
       "      <td>NaN</td>\n",
       "    </tr>\n",
       "  </tbody>\n",
       "</table>\n",
       "<p>253 rows × 4 columns</p>\n",
       "</div>"
      ],
      "text/plain": [
       "        Runner-up Runner-up Nationality  Year Runner-up Seed\n",
       "0    N.E. Brookes                   AUS  1919            NaN\n",
       "1       R. Lycett                   GBR  1922            NaN\n",
       "2       A.W. Gore                   GBR  1907            NaN\n",
       "3    A.F. Wilding                   NZL  1914            NaN\n",
       "4    J.R. Lacoste                   FRA  1924            NaN\n",
       "..            ...                   ...   ...            ...\n",
       "248           NaN                   NaN  2000              2\n",
       "249           NaN                   NaN  1956              6\n",
       "250           NaN                   NaN  2012              3\n",
       "251           NaN                   NaN  2008              6\n",
       "252           NaN                   NaN  1962            NaN\n",
       "\n",
       "[253 rows x 4 columns]"
      ]
     },
     "execution_count": 70,
     "metadata": {},
     "output_type": "execute_result"
    }
   ],
   "source": [
    "#Expected output here"
   ]
  },
  {
   "cell_type": "code",
   "execution_count": 72,
   "id": "5c122774",
   "metadata": {},
   "outputs": [],
   "source": [
    "# End of Question 6"
   ]
  },
  {
   "cell_type": "markdown",
   "id": "b1970f8e",
   "metadata": {},
   "source": [
    "## Question 7\n",
    "###  How many years France has won the championship? display champion name, and year"
   ]
  },
  {
   "cell_type": "code",
   "execution_count": 27,
   "id": "f35a8ea3",
   "metadata": {
    "ExecuteTime": {
     "end_time": "2023-10-08T21:09:41.131815Z",
     "start_time": "2023-10-08T21:09:41.108366Z"
    }
   },
   "outputs": [
    {
     "name": "stdout",
     "output_type": "stream",
     "text": [
      "           Champion  Year\n",
      "4      J.R. Borotra  1924\n",
      "5      J.R. Lacoste  1925\n",
      "6      J.R. Borotra  1926\n",
      "57      H.J. Cochet  1929\n",
      "93     J.R. Lacoste  1928\n",
      "115     H.J. Cochet  1927\n",
      "120    Y.F.M. Petra  1946\n",
      "142  S.R.F. Lenglen  1925\n",
      "143  S.R.F. Lenglen  1923\n",
      "144  S.R.F. Lenglen  1919\n",
      "145  S.R.F. Lenglen  1920\n",
      "146  S.R.F. Lenglen  1921\n",
      "147  S.R.F. Lenglen  1922\n",
      "148     A. Mauresmo  2006\n",
      "149      M. Bartoli  2013\n"
     ]
    }
   ],
   "source": [
    "#Your code here\n",
    "FRA_champion = df[df['Champion Nationality'] == 'FRA']\n",
    "print(FRA_champion[['Champion', 'Year']])"
   ]
  },
  {
   "cell_type": "code",
   "execution_count": null,
   "id": "73bbc7cc",
   "metadata": {},
   "outputs": [],
   "source": [
    "##Expected output\n",
    "     Champion          Year\n",
    "4   J.R. Borotra    1924\n",
    "5   J.R. Lacoste    1925\n",
    "6   J.R. Borotra    1926\n",
    "57  H.J. Cochet     1929\n",
    "93  J.R. Lacoste    1928\n",
    "115 H.J. Cochet     1927\n",
    "120 Y.F.M. Petra    1946\n",
    "142 S.R.F. Lenglen  1925\n",
    "143 S.R.F. Lenglen  1923\n",
    "144 S.R.F. Lenglen  1919\n",
    "145 S.R.F. Lenglen  1920\n",
    "146 S.R.F. Lenglen  1921\n",
    "147 S.R.F. Lenglen  1922\n",
    "148 A. Mauresmo     2006\n",
    "149 M. Bartoli      2013\n"
   ]
  },
  {
   "cell_type": "code",
   "execution_count": 2,
   "id": "484e7809",
   "metadata": {},
   "outputs": [],
   "source": [
    "##End of Question 7"
   ]
  },
  {
   "cell_type": "markdown",
   "id": "ae555969",
   "metadata": {},
   "source": [
    "## Quetion 8\n",
    "###  Name the top 10 champions who have won highest championship titles - display champion name, country, "
   ]
  },
  {
   "cell_type": "code",
   "execution_count": 30,
   "id": "3c9b68b2",
   "metadata": {
    "ExecuteTime": {
     "end_time": "2023-10-08T21:23:46.165091Z",
     "start_time": "2023-10-08T21:23:46.116126Z"
    }
   },
   "outputs": [
    {
     "name": "stdout",
     "output_type": "stream",
     "text": [
      "           Champion Champion Nationality  Number of Titles\n",
      "69   M. Navratilova                  USA                 9\n",
      "117    W.C. Renshaw                  GBR                 7\n",
      "85       P. Sampras                  USA                 7\n",
      "109       S.M. Graf                  GER                 7\n",
      "93       R. Federer                  SUI                 7\n",
      "111  S.R.F. Lenglen                  FRA                 6\n",
      "66        L.W. King                  USA                 6\n",
      "15        B.R. Borg                  SWE                 5\n",
      "34    G.W. Hillyard                  GBR                 5\n",
      "31       F.S. Moody                  USA                 5\n"
     ]
    }
   ],
   "source": [
    "# Your solution here\n",
    "# HINT: use pandas groupby() function\n",
    "\n",
    "# Group the df by 'Champion' and 'Champion Nationality', count the titles, and sort in descending order\n",
    "top_champions = df.groupby(['Champion', 'Champion Nationality'])['Year'].count().reset_index()\n",
    "top_champions = top_champions.rename(columns = {'Year': 'Number of Titles'})\n",
    "top_champions = top_champions.sort_values(by = 'Number of Titles', ascending=False)\n",
    "\n",
    "# Select the top 10 champions\n",
    "top_10_champions = top_champions.head(10)\n",
    "\n",
    "print(top_10_champions[['Champion', 'Champion Nationality', 'Number of Titles']])"
   ]
  },
  {
   "cell_type": "code",
   "execution_count": 93,
   "id": "d9989d25",
   "metadata": {},
   "outputs": [
    {
     "data": {
      "text/html": [
       "<div>\n",
       "<style scoped>\n",
       "    .dataframe tbody tr th:only-of-type {\n",
       "        vertical-align: middle;\n",
       "    }\n",
       "\n",
       "    .dataframe tbody tr th {\n",
       "        vertical-align: top;\n",
       "    }\n",
       "\n",
       "    .dataframe thead th {\n",
       "        text-align: right;\n",
       "    }\n",
       "</style>\n",
       "<table border=\"1\" class=\"dataframe\">\n",
       "  <thead>\n",
       "    <tr style=\"text-align: right;\">\n",
       "      <th></th>\n",
       "      <th>Champion</th>\n",
       "      <th>Champion Nationality</th>\n",
       "      <th>Score</th>\n",
       "    </tr>\n",
       "  </thead>\n",
       "  <tbody>\n",
       "    <tr>\n",
       "      <th>69</th>\n",
       "      <td>M. Navratilova</td>\n",
       "      <td>USA</td>\n",
       "      <td>9</td>\n",
       "    </tr>\n",
       "    <tr>\n",
       "      <th>117</th>\n",
       "      <td>W.C. Renshaw</td>\n",
       "      <td>GBR</td>\n",
       "      <td>7</td>\n",
       "    </tr>\n",
       "    <tr>\n",
       "      <th>85</th>\n",
       "      <td>P. Sampras</td>\n",
       "      <td>USA</td>\n",
       "      <td>7</td>\n",
       "    </tr>\n",
       "    <tr>\n",
       "      <th>109</th>\n",
       "      <td>S.M. Graf</td>\n",
       "      <td>GER</td>\n",
       "      <td>7</td>\n",
       "    </tr>\n",
       "    <tr>\n",
       "      <th>93</th>\n",
       "      <td>R. Federer</td>\n",
       "      <td>SUI</td>\n",
       "      <td>7</td>\n",
       "    </tr>\n",
       "    <tr>\n",
       "      <th>111</th>\n",
       "      <td>S.R.F. Lenglen</td>\n",
       "      <td>FRA</td>\n",
       "      <td>6</td>\n",
       "    </tr>\n",
       "    <tr>\n",
       "      <th>66</th>\n",
       "      <td>L.W. King</td>\n",
       "      <td>USA</td>\n",
       "      <td>6</td>\n",
       "    </tr>\n",
       "    <tr>\n",
       "      <th>15</th>\n",
       "      <td>B.R. Borg</td>\n",
       "      <td>SWE</td>\n",
       "      <td>5</td>\n",
       "    </tr>\n",
       "    <tr>\n",
       "      <th>34</th>\n",
       "      <td>G.W. Hillyard</td>\n",
       "      <td>GBR</td>\n",
       "      <td>5</td>\n",
       "    </tr>\n",
       "    <tr>\n",
       "      <th>31</th>\n",
       "      <td>F.S. Moody</td>\n",
       "      <td>USA</td>\n",
       "      <td>5</td>\n",
       "    </tr>\n",
       "  </tbody>\n",
       "</table>\n",
       "</div>"
      ],
      "text/plain": [
       "           Champion Champion Nationality  Score\n",
       "69   M. Navratilova                  USA      9\n",
       "117    W.C. Renshaw                  GBR      7\n",
       "85       P. Sampras                  USA      7\n",
       "109       S.M. Graf                  GER      7\n",
       "93       R. Federer                  SUI      7\n",
       "111  S.R.F. Lenglen                  FRA      6\n",
       "66        L.W. King                  USA      6\n",
       "15        B.R. Borg                  SWE      5\n",
       "34    G.W. Hillyard                  GBR      5\n",
       "31       F.S. Moody                  USA      5"
      ]
     },
     "execution_count": 93,
     "metadata": {},
     "output_type": "execute_result"
    }
   ],
   "source": [
    "#Expected output"
   ]
  },
  {
   "cell_type": "markdown",
   "id": "7784c2bf",
   "metadata": {},
   "source": [
    "#### End of Question 8"
   ]
  },
  {
   "cell_type": "markdown",
   "id": "e4fe9c0c",
   "metadata": {},
   "source": [
    "## Question 9\n",
    "### WHat is the Average \"MINS\" of MEN's game (WARNING: You have missing values in the dataset"
   ]
  },
  {
   "cell_type": "code",
   "execution_count": 98,
   "id": "691b4e21",
   "metadata": {},
   "outputs": [],
   "source": [
    "## Your solution"
   ]
  },
  {
   "cell_type": "code",
   "execution_count": 41,
   "id": "9880a743",
   "metadata": {
    "ExecuteTime": {
     "end_time": "2023-10-08T21:46:11.397840Z",
     "start_time": "2023-10-08T21:46:11.374454Z"
    }
   },
   "outputs": [
    {
     "name": "stdout",
     "output_type": "stream",
     "text": [
      "116.75471698113208\n"
     ]
    }
   ],
   "source": [
    "# # Calculate the mean of the 'Mins' column\n",
    "# mean_mins = df['Mins'].mean()\n",
    "#\n",
    "# # Fill missing values in the 'Mins' column with the mean value\n",
    "# df['Mins'].fillna(mean_mins, inplace=True)\n",
    "\n",
    "# Filter the df to include only men's games\n",
    "df_men = df[df['Gender'] == \"Men's\"]\n",
    "\n",
    "# Calculate the average \"Mins\" for men's games, ignoring missing values\n",
    "average_mins_men_games = df_men['Mins'].mean(skipna=True)\n",
    "\n",
    "print(average_mins_men_games)"
   ]
  },
  {
   "cell_type": "code",
   "execution_count": 97,
   "id": "a44b9f54",
   "metadata": {},
   "outputs": [
    {
     "data": {
      "text/plain": [
       "100.29787234042553"
      ]
     },
     "execution_count": 97,
     "metadata": {},
     "output_type": "execute_result"
    }
   ],
   "source": [
    "#expected output"
   ]
  },
  {
   "cell_type": "markdown",
   "id": "083367e1",
   "metadata": {},
   "source": [
    "#### End of solution 9"
   ]
  },
  {
   "cell_type": "markdown",
   "id": "ab38197f",
   "metadata": {},
   "source": [
    "## Question 10\n",
    "#### How many missing values are in the dataset (Each column information)\n"
   ]
  },
  {
   "cell_type": "code",
   "execution_count": 42,
   "id": "5f21757d",
   "metadata": {
    "ExecuteTime": {
     "end_time": "2023-10-08T21:47:22.025981Z",
     "start_time": "2023-10-08T21:47:21.992826Z"
    }
   },
   "outputs": [
    {
     "name": "stdout",
     "output_type": "stream",
     "text": [
      "Gender                             0\n",
      "Champion                           0\n",
      "Mins                              65\n",
      "Runner-up Nationality            123\n",
      "Champion Nationality               0\n",
      "Runner-up                        123\n",
      "Score                              0\n",
      "Runner-up Seed                    89\n",
      "Champion Seed                     88\n",
      "Year                               0\n",
      "Runner-up Nationality (Men's)    130\n",
      "Runner-Up                        130\n",
      "dtype: int64\n"
     ]
    }
   ],
   "source": [
    "## Your solution code here:\n",
    "# HINT: use isnull()\n",
    "# Check for missing values in each column and count them\n",
    "missing_values_count = df.isnull().sum()\n",
    "print(missing_values_count)"
   ]
  },
  {
   "cell_type": "code",
   "execution_count": 99,
   "id": "afcc22a4",
   "metadata": {},
   "outputs": [
    {
     "data": {
      "text/plain": [
       "Gender                             0\n",
       "Champion                           0\n",
       "Mins                              65\n",
       "Runner-up Nationality            123\n",
       "Champion Nationality               0\n",
       "Runner-up                        123\n",
       "Score                              0\n",
       "Runner-up Seed                    89\n",
       "Champion Seed                     88\n",
       "Year                               0\n",
       "Runner-up Nationality (Men's)    130\n",
       "Runner-Up                        130\n",
       "dtype: int64"
      ]
     },
     "execution_count": 99,
     "metadata": {},
     "output_type": "execute_result"
    }
   ],
   "source": [
    "#expected output"
   ]
  },
  {
   "cell_type": "markdown",
   "id": "1d76142b",
   "metadata": {},
   "source": [
    "### End of Question 10"
   ]
  },
  {
   "cell_type": "markdown",
   "id": "f5871409",
   "metadata": {},
   "source": [
    "## Question 11. \n",
    "####  1. Separate dataset into two datasets (dataframes) based on <b>Gender<b> - \"Men's and Women's\"\n",
    "####  2. Display as shown below"
   ]
  },
  {
   "cell_type": "code",
   "execution_count": 44,
   "id": "082b7c80",
   "metadata": {
    "ExecuteTime": {
     "end_time": "2023-10-08T21:51:49.895477Z",
     "start_time": "2023-10-08T21:51:49.857083Z"
    }
   },
   "outputs": [
    {
     "data": {
      "text/plain": "      Gender        Champion   Mins Runner-up Nationality  \\\n130  Women's      B.M. Court  148.0                   NaN   \n131  Women's        M. Smith   51.0                   NaN   \n132  Women's        M. Smith   56.0                   NaN   \n133  Women's  E.F. Goolagong   62.0                   NaN   \n134  Women's     R.A. Cawley   93.0                   NaN   \n135  Women's    M.E.A. Bueno   59.0                   NaN   \n136  Women's    M.E.A. Bueno   90.0                   NaN   \n137  Women's    M.E.A. Bueno   43.0                   NaN   \n\n    Champion Nationality Runner-up           Score Runner-up Seed  \\\n130                  AUS       NaN    14-12, 11-9,              2   \n131                  AUS       NaN       6-3, 6-4,            NaN   \n132                  AUS       NaN       6-4, 7-5,              1   \n133                  AUS       NaN       6-4, 6-1,              1   \n134                  AUS       NaN  6-1, 7-6 (7-4)              3   \n135                  BRA       NaN        8-6, 6-0              8   \n136                  BRA       NaN  6-4, 7-9, 6-3,              1   \n137                  BRA       NaN       6-4, 6-3,              4   \n\n     Champion Seed  Year Runner-up Nationality (Men's)     Runner-Up  \n130            1.0  1970                           USA     L.W. King  \n131            1.0  1963                           USA  B.J. Moffitt  \n132            2.0  1965                           BRA  M.E.A. Bueno  \n133            3.0  1971                           AUS    B.M. Court  \n134            4.0  1980                           USA    J.M. Lloyd  \n135            1.0  1960                           RSA   S. Reynolds  \n136            2.0  1964                           AUS      M. Smith  \n137            6.0  1959                           USA     D.R. Hard  ",
      "text/html": "<div>\n<style scoped>\n    .dataframe tbody tr th:only-of-type {\n        vertical-align: middle;\n    }\n\n    .dataframe tbody tr th {\n        vertical-align: top;\n    }\n\n    .dataframe thead th {\n        text-align: right;\n    }\n</style>\n<table border=\"1\" class=\"dataframe\">\n  <thead>\n    <tr style=\"text-align: right;\">\n      <th></th>\n      <th>Gender</th>\n      <th>Champion</th>\n      <th>Mins</th>\n      <th>Runner-up Nationality</th>\n      <th>Champion Nationality</th>\n      <th>Runner-up</th>\n      <th>Score</th>\n      <th>Runner-up Seed</th>\n      <th>Champion Seed</th>\n      <th>Year</th>\n      <th>Runner-up Nationality (Men's)</th>\n      <th>Runner-Up</th>\n    </tr>\n  </thead>\n  <tbody>\n    <tr>\n      <th>130</th>\n      <td>Women's</td>\n      <td>B.M. Court</td>\n      <td>148.0</td>\n      <td>NaN</td>\n      <td>AUS</td>\n      <td>NaN</td>\n      <td>14-12, 11-9,</td>\n      <td>2</td>\n      <td>1.0</td>\n      <td>1970</td>\n      <td>USA</td>\n      <td>L.W. King</td>\n    </tr>\n    <tr>\n      <th>131</th>\n      <td>Women's</td>\n      <td>M. Smith</td>\n      <td>51.0</td>\n      <td>NaN</td>\n      <td>AUS</td>\n      <td>NaN</td>\n      <td>6-3, 6-4,</td>\n      <td>NaN</td>\n      <td>1.0</td>\n      <td>1963</td>\n      <td>USA</td>\n      <td>B.J. Moffitt</td>\n    </tr>\n    <tr>\n      <th>132</th>\n      <td>Women's</td>\n      <td>M. Smith</td>\n      <td>56.0</td>\n      <td>NaN</td>\n      <td>AUS</td>\n      <td>NaN</td>\n      <td>6-4, 7-5,</td>\n      <td>1</td>\n      <td>2.0</td>\n      <td>1965</td>\n      <td>BRA</td>\n      <td>M.E.A. Bueno</td>\n    </tr>\n    <tr>\n      <th>133</th>\n      <td>Women's</td>\n      <td>E.F. Goolagong</td>\n      <td>62.0</td>\n      <td>NaN</td>\n      <td>AUS</td>\n      <td>NaN</td>\n      <td>6-4, 6-1,</td>\n      <td>1</td>\n      <td>3.0</td>\n      <td>1971</td>\n      <td>AUS</td>\n      <td>B.M. Court</td>\n    </tr>\n    <tr>\n      <th>134</th>\n      <td>Women's</td>\n      <td>R.A. Cawley</td>\n      <td>93.0</td>\n      <td>NaN</td>\n      <td>AUS</td>\n      <td>NaN</td>\n      <td>6-1, 7-6 (7-4)</td>\n      <td>3</td>\n      <td>4.0</td>\n      <td>1980</td>\n      <td>USA</td>\n      <td>J.M. Lloyd</td>\n    </tr>\n    <tr>\n      <th>135</th>\n      <td>Women's</td>\n      <td>M.E.A. Bueno</td>\n      <td>59.0</td>\n      <td>NaN</td>\n      <td>BRA</td>\n      <td>NaN</td>\n      <td>8-6, 6-0</td>\n      <td>8</td>\n      <td>1.0</td>\n      <td>1960</td>\n      <td>RSA</td>\n      <td>S. Reynolds</td>\n    </tr>\n    <tr>\n      <th>136</th>\n      <td>Women's</td>\n      <td>M.E.A. Bueno</td>\n      <td>90.0</td>\n      <td>NaN</td>\n      <td>BRA</td>\n      <td>NaN</td>\n      <td>6-4, 7-9, 6-3,</td>\n      <td>1</td>\n      <td>2.0</td>\n      <td>1964</td>\n      <td>AUS</td>\n      <td>M. Smith</td>\n    </tr>\n    <tr>\n      <th>137</th>\n      <td>Women's</td>\n      <td>M.E.A. Bueno</td>\n      <td>43.0</td>\n      <td>NaN</td>\n      <td>BRA</td>\n      <td>NaN</td>\n      <td>6-4, 6-3,</td>\n      <td>4</td>\n      <td>6.0</td>\n      <td>1959</td>\n      <td>USA</td>\n      <td>D.R. Hard</td>\n    </tr>\n  </tbody>\n</table>\n</div>"
     },
     "execution_count": 44,
     "metadata": {},
     "output_type": "execute_result"
    }
   ],
   "source": [
    "# Your solution here\n",
    "# YOur code here\n",
    "# Separate the dataset into two dataframes based on 'Gender'\n",
    "men_data = df[df['Gender'] == \"Men's\"]\n",
    "women_data = df[df['Gender'] == \"Women's\"]\n",
    "\n",
    "# Display two dataframes\n",
    "men_data.head(8)\n",
    "women_data.head(8)"
   ]
  },
  {
   "cell_type": "code",
   "execution_count": 23,
   "id": "de03164c",
   "metadata": {},
   "outputs": [
    {
     "data": {
      "text/html": [
       "<div>\n",
       "<style scoped>\n",
       "    .dataframe tbody tr th:only-of-type {\n",
       "        vertical-align: middle;\n",
       "    }\n",
       "\n",
       "    .dataframe tbody tr th {\n",
       "        vertical-align: top;\n",
       "    }\n",
       "\n",
       "    .dataframe thead th {\n",
       "        text-align: right;\n",
       "    }\n",
       "</style>\n",
       "<table border=\"1\" class=\"dataframe\">\n",
       "  <thead>\n",
       "    <tr style=\"text-align: right;\">\n",
       "      <th></th>\n",
       "      <th>Gender</th>\n",
       "      <th>Champion</th>\n",
       "      <th>Mins</th>\n",
       "      <th>Runner-up Nationality</th>\n",
       "      <th>Champion Nationality</th>\n",
       "      <th>Runner-up</th>\n",
       "      <th>Score</th>\n",
       "      <th>Runner-up Seed</th>\n",
       "      <th>Champion Seed</th>\n",
       "      <th>Year</th>\n",
       "      <th>Runner-up Nationality (Men's)</th>\n",
       "      <th>Runner-Up</th>\n",
       "    </tr>\n",
       "  </thead>\n",
       "  <tbody>\n",
       "    <tr>\n",
       "      <th>245</th>\n",
       "      <td>Women's</td>\n",
       "      <td>D.J. Hart</td>\n",
       "      <td>35.0</td>\n",
       "      <td>NaN</td>\n",
       "      <td>USA</td>\n",
       "      <td>NaN</td>\n",
       "      <td>6-1, 6-0</td>\n",
       "      <td>4</td>\n",
       "      <td>3.0</td>\n",
       "      <td>1951</td>\n",
       "      <td>USA</td>\n",
       "      <td>S.J. Fry</td>\n",
       "    </tr>\n",
       "    <tr>\n",
       "      <th>246</th>\n",
       "      <td>Women's</td>\n",
       "      <td>L.W. King</td>\n",
       "      <td>68.0</td>\n",
       "      <td>NaN</td>\n",
       "      <td>USA</td>\n",
       "      <td>NaN</td>\n",
       "      <td>6-3, 3-6, 6-1,</td>\n",
       "      <td>2</td>\n",
       "      <td>4.0</td>\n",
       "      <td>1966</td>\n",
       "      <td>BRA</td>\n",
       "      <td>M.E.A. Bueno</td>\n",
       "    </tr>\n",
       "    <tr>\n",
       "      <th>247</th>\n",
       "      <td>Women's</td>\n",
       "      <td>F.S. Moody</td>\n",
       "      <td>100.0</td>\n",
       "      <td>NaN</td>\n",
       "      <td>USA</td>\n",
       "      <td>NaN</td>\n",
       "      <td>6-3, 3-6, 7-5</td>\n",
       "      <td>3</td>\n",
       "      <td>4.0</td>\n",
       "      <td>1935</td>\n",
       "      <td>USA</td>\n",
       "      <td>H.H. Jacobs</td>\n",
       "    </tr>\n",
       "    <tr>\n",
       "      <th>248</th>\n",
       "      <td>Women's</td>\n",
       "      <td>V.E.S. Williams</td>\n",
       "      <td>84.0</td>\n",
       "      <td>NaN</td>\n",
       "      <td>USA</td>\n",
       "      <td>NaN</td>\n",
       "      <td>6-3, 7-6 (7-3)</td>\n",
       "      <td>2</td>\n",
       "      <td>5.0</td>\n",
       "      <td>2000</td>\n",
       "      <td>USA</td>\n",
       "      <td>L.A. Davenport</td>\n",
       "    </tr>\n",
       "    <tr>\n",
       "      <th>249</th>\n",
       "      <td>Women's</td>\n",
       "      <td>S.J. Fry</td>\n",
       "      <td>50.0</td>\n",
       "      <td>NaN</td>\n",
       "      <td>USA</td>\n",
       "      <td>NaN</td>\n",
       "      <td>6-3, 6-1,</td>\n",
       "      <td>6</td>\n",
       "      <td>5.0</td>\n",
       "      <td>1956</td>\n",
       "      <td>GBR</td>\n",
       "      <td>A. Buxton</td>\n",
       "    </tr>\n",
       "    <tr>\n",
       "      <th>250</th>\n",
       "      <td>Women's</td>\n",
       "      <td>S. Williams</td>\n",
       "      <td>122.0</td>\n",
       "      <td>NaN</td>\n",
       "      <td>USA</td>\n",
       "      <td>NaN</td>\n",
       "      <td>6-1, 5-7, 6-2</td>\n",
       "      <td>3</td>\n",
       "      <td>6.0</td>\n",
       "      <td>2012</td>\n",
       "      <td>POL</td>\n",
       "      <td>A. Radwańska</td>\n",
       "    </tr>\n",
       "    <tr>\n",
       "      <th>251</th>\n",
       "      <td>Women's</td>\n",
       "      <td>V.E.S. Williams</td>\n",
       "      <td>111.0</td>\n",
       "      <td>NaN</td>\n",
       "      <td>USA</td>\n",
       "      <td>NaN</td>\n",
       "      <td>7-5, 6-4</td>\n",
       "      <td>6</td>\n",
       "      <td>7.0</td>\n",
       "      <td>2008</td>\n",
       "      <td>USA</td>\n",
       "      <td>S.J. Williams</td>\n",
       "    </tr>\n",
       "    <tr>\n",
       "      <th>252</th>\n",
       "      <td>Women's</td>\n",
       "      <td>J.R. Susman</td>\n",
       "      <td>57.0</td>\n",
       "      <td>NaN</td>\n",
       "      <td>USA</td>\n",
       "      <td>NaN</td>\n",
       "      <td>6-4, 6-4,</td>\n",
       "      <td>NaN</td>\n",
       "      <td>8.0</td>\n",
       "      <td>1962</td>\n",
       "      <td>TCH</td>\n",
       "      <td>C. Sukova</td>\n",
       "    </tr>\n",
       "  </tbody>\n",
       "</table>\n",
       "</div>"
      ],
      "text/plain": [
       "      Gender         Champion   Mins Runner-up Nationality  \\\n",
       "245  Women's        D.J. Hart   35.0                   NaN   \n",
       "246  Women's        L.W. King   68.0                   NaN   \n",
       "247  Women's       F.S. Moody  100.0                   NaN   \n",
       "248  Women's  V.E.S. Williams   84.0                   NaN   \n",
       "249  Women's         S.J. Fry   50.0                   NaN   \n",
       "250  Women's      S. Williams  122.0                   NaN   \n",
       "251  Women's  V.E.S. Williams  111.0                   NaN   \n",
       "252  Women's      J.R. Susman   57.0                   NaN   \n",
       "\n",
       "    Champion Nationality Runner-up           Score Runner-up Seed  \\\n",
       "245                  USA       NaN        6-1, 6-0              4   \n",
       "246                  USA       NaN  6-3, 3-6, 6-1,              2   \n",
       "247                  USA       NaN   6-3, 3-6, 7-5              3   \n",
       "248                  USA       NaN  6-3, 7-6 (7-3)              2   \n",
       "249                  USA       NaN       6-3, 6-1,              6   \n",
       "250                  USA       NaN   6-1, 5-7, 6-2              3   \n",
       "251                  USA       NaN        7-5, 6-4              6   \n",
       "252                  USA       NaN       6-4, 6-4,            NaN   \n",
       "\n",
       "     Champion Seed  Year Runner-up Nationality (Men's)       Runner-Up  \n",
       "245            3.0  1951                           USA        S.J. Fry  \n",
       "246            4.0  1966                           BRA    M.E.A. Bueno  \n",
       "247            4.0  1935                           USA     H.H. Jacobs  \n",
       "248            5.0  2000                           USA  L.A. Davenport  \n",
       "249            5.0  1956                           GBR       A. Buxton  \n",
       "250            6.0  2012                           POL    A. Radwańska  \n",
       "251            7.0  2008                           USA   S.J. Williams  \n",
       "252            8.0  1962                           TCH       C. Sukova  "
      ]
     },
     "execution_count": 23,
     "metadata": {},
     "output_type": "execute_result"
    }
   ],
   "source": [
    "#expected output"
   ]
  },
  {
   "cell_type": "code",
   "execution_count": 45,
   "outputs": [
    {
     "data": {
      "text/plain": "  Gender        Champion  Mins Runner-up Nationality Champion Nationality  \\\n0  Men's  G.L. Patterson   NaN                   AUS                  AUS   \n1  Men's  G.L. Patterson   NaN                   GBR                  AUS   \n2  Men's    N.E. Brookes   NaN                   GBR                  AUS   \n3  Men's    N.E. Brookes   NaN                   NZL                  AUS   \n4  Men's    J.R. Borotra  80.0                   FRA                  FRA   \n5  Men's    J.R. Lacoste   NaN                   FRA                  FRA   \n6  Men's    J.R. Borotra  65.0                   USA                  FRA   \n7  Men's    H.L. Doherty  65.0                   AUS                  GBR   \n\n      Runner-up                    Score Runner-up Seed  Champion Seed  Year  \\\n0  N.E. Brookes            6-3, 7-5, 6-2            NaN            NaN  1919   \n1     R. Lycett            6-3, 6-4, 6-2            NaN            NaN  1922   \n2     A.W. Gore            6-4, 6-2, 6-2            NaN            NaN  1907   \n3  A.F. Wilding            6-4, 6-4, 7-5            NaN            NaN  1914   \n4  J.R. Lacoste  6-1, 3-6, 6-1, 3-6, 6-4            NaN            NaN  1924   \n5  J.R. Borotra       6-3, 6-3, 4-6, 8-6            NaN            NaN  1925   \n6   H.O. Kinsey            8-6, 6-1, 6-3            NaN            NaN  1926   \n7  N.E. Brookes            8-6, 6-2, 6-4            NaN            NaN  1905   \n\n  Runner-up Nationality (Men's) Runner-Up  \n0                           NaN       NaN  \n1                           NaN       NaN  \n2                           NaN       NaN  \n3                           NaN       NaN  \n4                           NaN       NaN  \n5                           NaN       NaN  \n6                           NaN       NaN  \n7                           NaN       NaN  ",
      "text/html": "<div>\n<style scoped>\n    .dataframe tbody tr th:only-of-type {\n        vertical-align: middle;\n    }\n\n    .dataframe tbody tr th {\n        vertical-align: top;\n    }\n\n    .dataframe thead th {\n        text-align: right;\n    }\n</style>\n<table border=\"1\" class=\"dataframe\">\n  <thead>\n    <tr style=\"text-align: right;\">\n      <th></th>\n      <th>Gender</th>\n      <th>Champion</th>\n      <th>Mins</th>\n      <th>Runner-up Nationality</th>\n      <th>Champion Nationality</th>\n      <th>Runner-up</th>\n      <th>Score</th>\n      <th>Runner-up Seed</th>\n      <th>Champion Seed</th>\n      <th>Year</th>\n      <th>Runner-up Nationality (Men's)</th>\n      <th>Runner-Up</th>\n    </tr>\n  </thead>\n  <tbody>\n    <tr>\n      <th>0</th>\n      <td>Men's</td>\n      <td>G.L. Patterson</td>\n      <td>NaN</td>\n      <td>AUS</td>\n      <td>AUS</td>\n      <td>N.E. Brookes</td>\n      <td>6-3, 7-5, 6-2</td>\n      <td>NaN</td>\n      <td>NaN</td>\n      <td>1919</td>\n      <td>NaN</td>\n      <td>NaN</td>\n    </tr>\n    <tr>\n      <th>1</th>\n      <td>Men's</td>\n      <td>G.L. Patterson</td>\n      <td>NaN</td>\n      <td>GBR</td>\n      <td>AUS</td>\n      <td>R. Lycett</td>\n      <td>6-3, 6-4, 6-2</td>\n      <td>NaN</td>\n      <td>NaN</td>\n      <td>1922</td>\n      <td>NaN</td>\n      <td>NaN</td>\n    </tr>\n    <tr>\n      <th>2</th>\n      <td>Men's</td>\n      <td>N.E. Brookes</td>\n      <td>NaN</td>\n      <td>GBR</td>\n      <td>AUS</td>\n      <td>A.W. Gore</td>\n      <td>6-4, 6-2, 6-2</td>\n      <td>NaN</td>\n      <td>NaN</td>\n      <td>1907</td>\n      <td>NaN</td>\n      <td>NaN</td>\n    </tr>\n    <tr>\n      <th>3</th>\n      <td>Men's</td>\n      <td>N.E. Brookes</td>\n      <td>NaN</td>\n      <td>NZL</td>\n      <td>AUS</td>\n      <td>A.F. Wilding</td>\n      <td>6-4, 6-4, 7-5</td>\n      <td>NaN</td>\n      <td>NaN</td>\n      <td>1914</td>\n      <td>NaN</td>\n      <td>NaN</td>\n    </tr>\n    <tr>\n      <th>4</th>\n      <td>Men's</td>\n      <td>J.R. Borotra</td>\n      <td>80.0</td>\n      <td>FRA</td>\n      <td>FRA</td>\n      <td>J.R. Lacoste</td>\n      <td>6-1, 3-6, 6-1, 3-6, 6-4</td>\n      <td>NaN</td>\n      <td>NaN</td>\n      <td>1924</td>\n      <td>NaN</td>\n      <td>NaN</td>\n    </tr>\n    <tr>\n      <th>5</th>\n      <td>Men's</td>\n      <td>J.R. Lacoste</td>\n      <td>NaN</td>\n      <td>FRA</td>\n      <td>FRA</td>\n      <td>J.R. Borotra</td>\n      <td>6-3, 6-3, 4-6, 8-6</td>\n      <td>NaN</td>\n      <td>NaN</td>\n      <td>1925</td>\n      <td>NaN</td>\n      <td>NaN</td>\n    </tr>\n    <tr>\n      <th>6</th>\n      <td>Men's</td>\n      <td>J.R. Borotra</td>\n      <td>65.0</td>\n      <td>USA</td>\n      <td>FRA</td>\n      <td>H.O. Kinsey</td>\n      <td>8-6, 6-1, 6-3</td>\n      <td>NaN</td>\n      <td>NaN</td>\n      <td>1926</td>\n      <td>NaN</td>\n      <td>NaN</td>\n    </tr>\n    <tr>\n      <th>7</th>\n      <td>Men's</td>\n      <td>H.L. Doherty</td>\n      <td>65.0</td>\n      <td>AUS</td>\n      <td>GBR</td>\n      <td>N.E. Brookes</td>\n      <td>8-6, 6-2, 6-4</td>\n      <td>NaN</td>\n      <td>NaN</td>\n      <td>1905</td>\n      <td>NaN</td>\n      <td>NaN</td>\n    </tr>\n  </tbody>\n</table>\n</div>"
     },
     "execution_count": 45,
     "metadata": {},
     "output_type": "execute_result"
    }
   ],
   "source": [
    "men_data.head(8)"
   ],
   "metadata": {
    "collapsed": false,
    "ExecuteTime": {
     "end_time": "2023-10-08T21:53:28.775135Z",
     "start_time": "2023-10-08T21:53:28.744274Z"
    }
   }
  },
  {
   "cell_type": "code",
   "execution_count": 22,
   "id": "dd30aa31",
   "metadata": {},
   "outputs": [
    {
     "data": {
      "text/html": [
       "<div>\n",
       "<style scoped>\n",
       "    .dataframe tbody tr th:only-of-type {\n",
       "        vertical-align: middle;\n",
       "    }\n",
       "\n",
       "    .dataframe tbody tr th {\n",
       "        vertical-align: top;\n",
       "    }\n",
       "\n",
       "    .dataframe thead th {\n",
       "        text-align: right;\n",
       "    }\n",
       "</style>\n",
       "<table border=\"1\" class=\"dataframe\">\n",
       "  <thead>\n",
       "    <tr style=\"text-align: right;\">\n",
       "      <th></th>\n",
       "      <th>Gender</th>\n",
       "      <th>Champion</th>\n",
       "      <th>Mins</th>\n",
       "      <th>Runner-up Nationality</th>\n",
       "      <th>Champion Nationality</th>\n",
       "      <th>Runner-up</th>\n",
       "      <th>Score</th>\n",
       "      <th>Runner-up Seed</th>\n",
       "      <th>Champion Seed</th>\n",
       "      <th>Year</th>\n",
       "      <th>Runner-up Nationality (Men's)</th>\n",
       "      <th>Runner-Up</th>\n",
       "    </tr>\n",
       "  </thead>\n",
       "  <tbody>\n",
       "    <tr>\n",
       "      <th>122</th>\n",
       "      <td>Men's</td>\n",
       "      <td>M.D. Stich</td>\n",
       "      <td>153.0</td>\n",
       "      <td>GER</td>\n",
       "      <td>GER</td>\n",
       "      <td>B.F. Becker</td>\n",
       "      <td>6-4, 7-6 (7-4), 6-4</td>\n",
       "      <td>2</td>\n",
       "      <td>6.0</td>\n",
       "      <td>1991</td>\n",
       "      <td>NaN</td>\n",
       "      <td>NaN</td>\n",
       "    </tr>\n",
       "    <tr>\n",
       "      <th>123</th>\n",
       "      <td>Men's</td>\n",
       "      <td>A.R. Ashe</td>\n",
       "      <td>125.0</td>\n",
       "      <td>USA</td>\n",
       "      <td>USA</td>\n",
       "      <td>J.S. Connors</td>\n",
       "      <td>6-1, 6-1, 5-7, 6-4</td>\n",
       "      <td>1</td>\n",
       "      <td>6.0</td>\n",
       "      <td>1975</td>\n",
       "      <td>NaN</td>\n",
       "      <td>NaN</td>\n",
       "    </tr>\n",
       "    <tr>\n",
       "      <th>124</th>\n",
       "      <td>Men's</td>\n",
       "      <td>R. Savitt</td>\n",
       "      <td>62.0</td>\n",
       "      <td>AUS</td>\n",
       "      <td>USA</td>\n",
       "      <td>K.B. McGregor</td>\n",
       "      <td>6-4, 6-4, 6-4</td>\n",
       "      <td>7</td>\n",
       "      <td>6.0</td>\n",
       "      <td>1951</td>\n",
       "      <td>NaN</td>\n",
       "      <td>NaN</td>\n",
       "    </tr>\n",
       "    <tr>\n",
       "      <th>125</th>\n",
       "      <td>Men's</td>\n",
       "      <td>R. Falkenburg</td>\n",
       "      <td>125.0</td>\n",
       "      <td>AUS</td>\n",
       "      <td>USA</td>\n",
       "      <td>J.E. Bromwich</td>\n",
       "      <td>7-5, 0-6, 6-2, 3-6, 7-5</td>\n",
       "      <td>2</td>\n",
       "      <td>7.0</td>\n",
       "      <td>1948</td>\n",
       "      <td>NaN</td>\n",
       "      <td>NaN</td>\n",
       "    </tr>\n",
       "    <tr>\n",
       "      <th>126</th>\n",
       "      <td>Men's</td>\n",
       "      <td>S.B.B. Wood</td>\n",
       "      <td>NaN</td>\n",
       "      <td>USA</td>\n",
       "      <td>USA</td>\n",
       "      <td>F.X. Shields</td>\n",
       "      <td>walk over</td>\n",
       "      <td>3</td>\n",
       "      <td>7.0</td>\n",
       "      <td>1931</td>\n",
       "      <td>NaN</td>\n",
       "      <td>NaN</td>\n",
       "    </tr>\n",
       "    <tr>\n",
       "      <th>127</th>\n",
       "      <td>Men's</td>\n",
       "      <td>R.P.S. Krajicek</td>\n",
       "      <td>94.0</td>\n",
       "      <td>USA</td>\n",
       "      <td>NED</td>\n",
       "      <td>M.O. Washington</td>\n",
       "      <td>6-3, 6-4, 6-3</td>\n",
       "      <td>U</td>\n",
       "      <td>NaN</td>\n",
       "      <td>1996</td>\n",
       "      <td>NaN</td>\n",
       "      <td>NaN</td>\n",
       "    </tr>\n",
       "    <tr>\n",
       "      <th>128</th>\n",
       "      <td>Men's</td>\n",
       "      <td>G.S. Ivanisevic</td>\n",
       "      <td>182.0</td>\n",
       "      <td>AUS</td>\n",
       "      <td>CRO</td>\n",
       "      <td>P.M. Rafter</td>\n",
       "      <td>6-3, 3-6, 6-3, 2-6, 9-7</td>\n",
       "      <td>3</td>\n",
       "      <td>NaN</td>\n",
       "      <td>2001</td>\n",
       "      <td>NaN</td>\n",
       "      <td>NaN</td>\n",
       "    </tr>\n",
       "    <tr>\n",
       "      <th>129</th>\n",
       "      <td>Men's</td>\n",
       "      <td>B.F. Becker</td>\n",
       "      <td>198.0</td>\n",
       "      <td>USA</td>\n",
       "      <td>GER</td>\n",
       "      <td>K.M. Curren</td>\n",
       "      <td>6-3, 6-7 (4-7), 7-6 (7-3), 6-4</td>\n",
       "      <td>8</td>\n",
       "      <td>NaN</td>\n",
       "      <td>1985</td>\n",
       "      <td>NaN</td>\n",
       "      <td>NaN</td>\n",
       "    </tr>\n",
       "  </tbody>\n",
       "</table>\n",
       "</div>"
      ],
      "text/plain": [
       "    Gender         Champion   Mins Runner-up Nationality Champion Nationality  \\\n",
       "122  Men's       M.D. Stich  153.0                   GER                  GER   \n",
       "123  Men's        A.R. Ashe  125.0                   USA                  USA   \n",
       "124  Men's        R. Savitt   62.0                   AUS                  USA   \n",
       "125  Men's    R. Falkenburg  125.0                   AUS                  USA   \n",
       "126  Men's      S.B.B. Wood    NaN                   USA                  USA   \n",
       "127  Men's  R.P.S. Krajicek   94.0                   USA                  NED   \n",
       "128  Men's  G.S. Ivanisevic  182.0                   AUS                  CRO   \n",
       "129  Men's      B.F. Becker  198.0                   USA                  GER   \n",
       "\n",
       "           Runner-up                           Score Runner-up Seed  \\\n",
       "122      B.F. Becker             6-4, 7-6 (7-4), 6-4              2   \n",
       "123     J.S. Connors              6-1, 6-1, 5-7, 6-4              1   \n",
       "124    K.B. McGregor                   6-4, 6-4, 6-4              7   \n",
       "125    J.E. Bromwich         7-5, 0-6, 6-2, 3-6, 7-5              2   \n",
       "126     F.X. Shields                       walk over              3   \n",
       "127  M.O. Washington                   6-3, 6-4, 6-3              U   \n",
       "128      P.M. Rafter         6-3, 3-6, 6-3, 2-6, 9-7              3   \n",
       "129      K.M. Curren  6-3, 6-7 (4-7), 7-6 (7-3), 6-4              8   \n",
       "\n",
       "     Champion Seed  Year Runner-up Nationality (Men's) Runner-Up  \n",
       "122            6.0  1991                           NaN       NaN  \n",
       "123            6.0  1975                           NaN       NaN  \n",
       "124            6.0  1951                           NaN       NaN  \n",
       "125            7.0  1948                           NaN       NaN  \n",
       "126            7.0  1931                           NaN       NaN  \n",
       "127            NaN  1996                           NaN       NaN  \n",
       "128            NaN  2001                           NaN       NaN  \n",
       "129            NaN  1985                           NaN       NaN  "
      ]
     },
     "execution_count": 22,
     "metadata": {},
     "output_type": "execute_result"
    }
   ],
   "source": [
    "#expected output"
   ]
  },
  {
   "cell_type": "markdown",
   "id": "ca0b6f06",
   "metadata": {},
   "source": [
    "### End of Question 11 "
   ]
  },
  {
   "cell_type": "markdown",
   "id": "20a892c3",
   "metadata": {},
   "source": [
    "# Question 12"
   ]
  },
  {
   "cell_type": "raw",
   "id": "4cf5e67e",
   "metadata": {},
   "source": [
    "Create two NumPy arrays, array1 and array2, each containing 5 integer elements of your choice.\n",
    "\n",
    "Perform the following operations on the arrays:\n",
    "a. Calculate the sum of the elements in each array.\n",
    "b. Find the element-wise product of the arrays.\n",
    "c. Calculate the mean value of each array.\n",
    "\n",
    "Create a new NumPy array, array3, containing 10 random floating-point numbers between 0 and 1.\n",
    "\n",
    "Perform the following operations on array3:\n",
    "a. Find the maximum and minimum values in the array.\n",
    "b. Reshape the array into a 2x5 matrix.\n",
    "c. Calculate the square root of each element.\n",
    "\n",
    "Concatenate array1 and array2 horizontally to create a new array, concatenated_array.\n",
    "\n",
    "Display the results of all calculations and operations."
   ]
  },
  {
   "cell_type": "code",
   "execution_count": 2,
   "id": "34af9d41",
   "metadata": {
    "ExecuteTime": {
     "end_time": "2023-10-08T22:27:49.799519Z",
     "start_time": "2023-10-08T22:27:49.755831Z"
    }
   },
   "outputs": [
    {
     "ename": "NameError",
     "evalue": "name 'np' is not defined",
     "output_type": "error",
     "traceback": [
      "\u001B[0;31m---------------------------------------------------------------------------\u001B[0m",
      "\u001B[0;31mNameError\u001B[0m                                 Traceback (most recent call last)",
      "Cell \u001B[0;32mIn[2], line 2\u001B[0m\n\u001B[1;32m      1\u001B[0m \u001B[38;5;66;03m# Create two NumPy arrays, array1 and array2\u001B[39;00m\n\u001B[0;32m----> 2\u001B[0m a1 \u001B[38;5;241m=\u001B[39m \u001B[43mnp\u001B[49m\u001B[38;5;241m.\u001B[39marray([\u001B[38;5;241m24\u001B[39m, \u001B[38;5;241m27\u001B[39m, \u001B[38;5;241m13\u001B[39m, \u001B[38;5;241m14\u001B[39m, \u001B[38;5;241m44\u001B[39m])\n\u001B[1;32m      3\u001B[0m a2 \u001B[38;5;241m=\u001B[39m np\u001B[38;5;241m.\u001B[39marray([\u001B[38;5;241m10\u001B[39m, \u001B[38;5;241m77\u001B[39m, \u001B[38;5;241m68\u001B[39m, \u001B[38;5;241m90\u001B[39m, \u001B[38;5;241m7\u001B[39m])\n\u001B[1;32m      5\u001B[0m \u001B[38;5;66;03m# a. Calculate the sum of the elements in each array.\u001B[39;00m\n",
      "\u001B[0;31mNameError\u001B[0m: name 'np' is not defined"
     ]
    }
   ],
   "source": [
    "# Create two NumPy arrays, array1 and array2\n",
    "a1 = np.array([24, 27, 13, 14, 44])\n",
    "a2 = np.array([10, 77, 68, 90, 7])\n",
    "\n",
    "# a. Calculate the sum of the elements in each array.\n",
    "sum_a1 = np.sum(a1)\n",
    "sum_a2 = np.sum(a2)\n",
    "\n",
    "# b. Find the element-wise product of the arrays.\n",
    "elementwise_product = a1 * a2\n",
    "\n",
    "# c. Calculate the mean value of each array.\n",
    "mean_a1 = np.mean(a1)\n",
    "mean_a2 = np.mean(a2)"
   ]
  },
  {
   "cell_type": "code",
   "execution_count": 47,
   "id": "b993504c",
   "metadata": {
    "ExecuteTime": {
     "end_time": "2023-10-08T22:06:03.457721Z",
     "start_time": "2023-10-08T22:06:03.448684Z"
    }
   },
   "outputs": [],
   "source": [
    "# Create a new NumPy array, array3, with 10 random floating-point numbers between 0 and 1.\n",
    "a3 = np.random.rand(10)\n",
    "\n",
    "# a. Find the maximum and minimum values in the array.\n",
    "max_value = np.max(a3)\n",
    "min_value = np.min(a3)\n",
    "\n",
    "# b. Reshape the array into a 2x5 matrix.\n",
    "reshape_a3 = a3.reshape(2, 5)\n",
    "\n",
    "# c. Calculate the square root of each element.\n",
    "sqrt_a3 = np.sqrt(a3)"
   ]
  },
  {
   "cell_type": "code",
   "execution_count": 49,
   "id": "a5fca12f",
   "metadata": {
    "ExecuteTime": {
     "end_time": "2023-10-08T22:06:29.549584Z",
     "start_time": "2023-10-08T22:06:29.531437Z"
    }
   },
   "outputs": [],
   "source": [
    "# Concatenate array1 and array2 horizontally to create a new array, concatenated_array.\n",
    "concatenated_array = np.concatenate((a1, a2))"
   ]
  },
  {
   "cell_type": "code",
   "execution_count": 1,
   "id": "bdae8d05",
   "metadata": {
    "ExecuteTime": {
     "end_time": "2023-10-08T22:27:40.441782Z",
     "start_time": "2023-10-08T22:27:39.583147Z"
    }
   },
   "outputs": [
    {
     "ename": "NameError",
     "evalue": "name 'a1' is not defined",
     "output_type": "error",
     "traceback": [
      "\u001B[0;31m---------------------------------------------------------------------------\u001B[0m",
      "\u001B[0;31mNameError\u001B[0m                                 Traceback (most recent call last)",
      "Cell \u001B[0;32mIn[1], line 2\u001B[0m\n\u001B[1;32m      1\u001B[0m \u001B[38;5;66;03m# Display the results of all calculations and operations.\u001B[39;00m\n\u001B[0;32m----> 2\u001B[0m \u001B[38;5;28mprint\u001B[39m(\u001B[38;5;124m\"\u001B[39m\u001B[38;5;124marray1:\u001B[39m\u001B[38;5;124m\"\u001B[39m, \u001B[43ma1\u001B[49m)\n\u001B[1;32m      3\u001B[0m \u001B[38;5;28mprint\u001B[39m(\u001B[38;5;124m\"\u001B[39m\u001B[38;5;124marray2:\u001B[39m\u001B[38;5;124m\"\u001B[39m, a2)\n\u001B[1;32m      4\u001B[0m \u001B[38;5;28mprint\u001B[39m(\u001B[38;5;124m\"\u001B[39m\u001B[38;5;124ma. Sum of array1:\u001B[39m\u001B[38;5;124m\"\u001B[39m, sum_a1)\n",
      "\u001B[0;31mNameError\u001B[0m: name 'a1' is not defined"
     ]
    }
   ],
   "source": [
    "# Display the results of all calculations and operations.\n",
    "print(\"array1:\", a1)\n",
    "print(\"array2:\", a2)\n",
    "print(\"a. Sum of array1:\", sum_a1)\n",
    "print(\"   Sum of array2:\", sum_a2)\n",
    "print(\"b. Element-wise product:\", elementwise_product)\n",
    "print(\"c. Mean of array1:\", mean_a1)\n",
    "print(\"   Mean of array2:\", mean_a2)\n",
    "\n",
    "print(\"\\narray3:\", a3)\n",
    "print(\"a. Maximum value:\", max_value)\n",
    "print(\"   Minimum value:\", min_value)\n",
    "print(\"b. Reshaped array3:\")\n",
    "print(reshape_a3)\n",
    "print(\"c. Square root of array3:\")\n",
    "print(sqrt_a3)\n",
    "\n",
    "print(\"\\nConcatenated array:\")\n",
    "print(concatenated_array)"
   ]
  },
  {
   "cell_type": "code",
   "execution_count": null,
   "outputs": [],
   "source": [],
   "metadata": {
    "collapsed": false
   }
  }
 ],
 "metadata": {
  "kernelspec": {
   "display_name": "Python 3",
   "language": "python",
   "name": "python3"
  },
  "language_info": {
   "codemirror_mode": {
    "name": "ipython",
    "version": 3
   },
   "file_extension": ".py",
   "mimetype": "text/x-python",
   "name": "python",
   "nbconvert_exporter": "python",
   "pygments_lexer": "ipython3",
   "version": "3.8.8"
  }
 },
 "nbformat": 4,
 "nbformat_minor": 5
}
